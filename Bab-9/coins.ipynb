{
 "metadata": {
  "language_info": {
   "codemirror_mode": {
    "name": "ipython",
    "version": 3
   },
   "file_extension": ".py",
   "mimetype": "text/x-python",
   "name": "python",
   "nbconvert_exporter": "python",
   "pygments_lexer": "ipython3",
   "version": "3.7.6"
  },
  "orig_nbformat": 2,
  "kernelspec": {
   "name": "python376jvsc74a57bd0e3e4e3f8d1004f0635b3e366db2cf4bb93ba9a4575d200ce7de035ae015269d7",
   "display_name": "Python 3.7.6 64-bit ('base': conda)"
  },
  "metadata": {
   "interpreter": {
    "hash": "e3e4e3f8d1004f0635b3e366db2cf4bb93ba9a4575d200ce7de035ae015269d7"
   }
  }
 },
 "nbformat": 4,
 "nbformat_minor": 2,
 "cells": [
  {
   "cell_type": "code",
   "execution_count": 1,
   "metadata": {},
   "outputs": [],
   "source": [
    "from easyAI import TwoPlayersGame, id_solve, Human_Player, AI_Player\n",
    "from easyAI.AI import TT"
   ]
  },
  {
   "cell_type": "code",
   "execution_count": 2,
   "metadata": {},
   "outputs": [],
   "source": [
    "class LastCoinStanding(TwoPlayersGame):\n",
    "    def __init__(self, players):\n",
    "        # Define the players. Necessary parameter.\n",
    "        self.players = players\n",
    "\n",
    "        # Define who starts the game. Necessary parameter.\n",
    "        self.nplayer = 1 \n",
    "\n",
    "        # Overall number of coins in the pile \n",
    "        self.num_coins = 25\n",
    "\n",
    "        # Define max number of coins per move \n",
    "        self.max_coins = 4 \n",
    "\n",
    "    # Define possible moves\n",
    "    def possible_moves(self): \n",
    "        return [str(x) for x in range(1, self.max_coins + 1)]\n",
    "    \n",
    "    # Remove coins\n",
    "    def make_move(self, move): \n",
    "        self.num_coins -= int(move) \n",
    "\n",
    "    # Did the opponent take the last coin?\n",
    "    def win(self): \n",
    "        return self.num_coins <= 0 \n",
    "\n",
    "    # Stop the game when somebody wins \n",
    "    def is_over(self): \n",
    "        return self.win() \n",
    "\n",
    "    # Compute score\n",
    "    def scoring(self): \n",
    "        return 100 if self.win() else 0\n",
    "\n",
    "    # Show number of coins remaining in the pile\n",
    "    def show(self): \n",
    "        print(self.num_coins, 'coins left in the pile')"
   ]
  },
  {
   "cell_type": "code",
   "execution_count": 3,
   "metadata": {},
   "outputs": [
    {
     "output_type": "stream",
     "name": "stdout",
     "text": [
      "d:2, a:0, m:1\n",
      "d:3, a:0, m:1\n",
      "d:4, a:0, m:1\n",
      "d:5, a:0, m:1\n",
      "d:6, a:0, m:1\n",
      "d:7, a:0, m:1\n",
      "d:8, a:0, m:1\n",
      "d:9, a:0, m:1\n",
      "d:10, a:100, m:4\n",
      "1 10 4\n",
      "25 coins left in the pile\n",
      "\n",
      "Move #1: player 1 plays 4 :\n",
      "21 coins left in the pile\n",
      "\n",
      "Move #2: player 2 plays 2 :\n",
      "19 coins left in the pile\n",
      "\n",
      "Move #3: player 1 plays 3 :\n",
      "16 coins left in the pile\n",
      "\n",
      "Move #4: player 2 plays 2 :\n",
      "14 coins left in the pile\n",
      "\n",
      "Move #5: player 1 plays 3 :\n",
      "11 coins left in the pile\n",
      "\n",
      "Move #6: player 2 plays 2 :\n",
      "9 coins left in the pile\n",
      "\n",
      "Move #7: player 1 plays 3 :\n",
      "6 coins left in the pile\n",
      "\n",
      "Move #8: player 2 plays 3 :\n",
      "3 coins left in the pile\n",
      "\n",
      "Move #9: player 1 plays 2 :\n",
      "1 coins left in the pile\n",
      "\n",
      "Move #10: player 2 plays 3 :\n",
      "-2 coins left in the pile\n"
     ]
    }
   ],
   "source": [
    "if __name__ == \"__main__\":\n",
    "    # Define the transposition table\n",
    "    tt = TT()\n",
    "\n",
    "    # Define the method\n",
    "    LastCoinStanding.ttentry = lambda self: self.num_coins\n",
    "\n",
    "    # Solve the game\n",
    "    result, depth, move = id_solve(LastCoinStanding, \n",
    "            range(2, 20), win_score=100, tt=tt)\n",
    "    print(result, depth, move)  \n",
    "\n",
    "    # Start the game \n",
    "    game = LastCoinStanding([AI_Player(tt), Human_Player()])\n",
    "    game.play()"
   ]
  },
  {
   "cell_type": "code",
   "execution_count": null,
   "metadata": {},
   "outputs": [],
   "source": []
  }
 ]
}