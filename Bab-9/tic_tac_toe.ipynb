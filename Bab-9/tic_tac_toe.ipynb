{
 "metadata": {
  "language_info": {
   "codemirror_mode": {
    "name": "ipython",
    "version": 3
   },
   "file_extension": ".py",
   "mimetype": "text/x-python",
   "name": "python",
   "nbconvert_exporter": "python",
   "pygments_lexer": "ipython3",
   "version": "3.7.6"
  },
  "orig_nbformat": 2,
  "kernelspec": {
   "name": "python376jvsc74a57bd0e3e4e3f8d1004f0635b3e366db2cf4bb93ba9a4575d200ce7de035ae015269d7",
   "display_name": "Python 3.7.6 64-bit ('base': conda)"
  },
  "metadata": {
   "interpreter": {
    "hash": "e3e4e3f8d1004f0635b3e366db2cf4bb93ba9a4575d200ce7de035ae015269d7"
   }
  }
 },
 "nbformat": 4,
 "nbformat_minor": 2,
 "cells": [
  {
   "cell_type": "code",
   "execution_count": 1,
   "metadata": {},
   "outputs": [],
   "source": [
    "from easyAI import TwoPlayersGame, AI_Player, Negamax\n",
    "from easyAI.Player import Human_Player"
   ]
  },
  {
   "cell_type": "code",
   "execution_count": 2,
   "metadata": {},
   "outputs": [],
   "source": [
    "class GameController(TwoPlayersGame):\n",
    "    def __init__(self, players):\n",
    "        # Define the players\n",
    "        self.players = players\n",
    "\n",
    "        # Define who starts the game\n",
    "        self.nplayer = 1 \n",
    "\n",
    "        # Define the board\n",
    "        self.board = [0] * 9\n",
    "    \n",
    "    # Define possible moves\n",
    "    def possible_moves(self):\n",
    "        return [a + 1 for a, b in enumerate(self.board) if b == 0]\n",
    "    \n",
    "    # Make a move\n",
    "    def make_move(self, move):\n",
    "        self.board[int(move) - 1] = self.nplayer\n",
    "\n",
    "    # Does the opponent have three in a line?\n",
    "    def loss_condition(self):\n",
    "        possible_combinations = [[1,2,3], [4,5,6], [7,8,9],\n",
    "            [1,4,7], [2,5,8], [3,6,9], [1,5,9], [3,5,7]]\n",
    "\n",
    "        return any([all([(self.board[i-1] == self.nopponent)\n",
    "                for i in combination]) for combination in possible_combinations]) \n",
    "        \n",
    "    # Check if the game is over\n",
    "    def is_over(self):\n",
    "        return (self.possible_moves() == []) or self.loss_condition()\n",
    "        \n",
    "    # Show current position\n",
    "    def show(self):\n",
    "        print('\\n'+'\\n'.join([' '.join([['.', 'O', 'X'][self.board[3*j + i]]\n",
    "                for i in range(3)]) for j in range(3)]))\n",
    "                 \n",
    "    # Compute the score\n",
    "    def scoring(self):\n",
    "        return -100 if self.loss_condition() else 0"
   ]
  },
  {
   "cell_type": "code",
   "execution_count": 3,
   "metadata": {},
   "outputs": [
    {
     "output_type": "stream",
     "name": "stdout",
     "text": [
      "\n",
      ". . .\n",
      ". . .\n",
      ". . .\n",
      "\n",
      "Move #1: player 1 plays 5 :\n",
      "\n",
      ". . .\n",
      ". O .\n",
      ". . .\n",
      "\n",
      "Move #2: player 2 plays 1 :\n",
      "\n",
      "X . .\n",
      ". O .\n",
      ". . .\n",
      "\n",
      "Move #3: player 1 plays 2 :\n",
      "\n",
      "X O .\n",
      ". O .\n",
      ". . .\n",
      "\n",
      "Move #4: player 2 plays 8 :\n",
      "\n",
      "X O .\n",
      ". O .\n",
      ". X .\n",
      "\n",
      "Move #5: player 1 plays 7 :\n",
      "\n",
      "X O .\n",
      ". O .\n",
      "O X .\n",
      "\n",
      "Move #6: player 2 plays 3 :\n",
      "\n",
      "X O X\n",
      ". O .\n",
      "O X .\n",
      "\n",
      "Move #7: player 1 plays 6 :\n",
      "\n",
      "X O X\n",
      ". O O\n",
      "O X .\n",
      "\n",
      "Move #8: player 2 plays 4 :\n",
      "\n",
      "X O X\n",
      "X O O\n",
      "O X .\n",
      "\n",
      "Move #9: player 1 plays 9 :\n",
      "\n",
      "X O X\n",
      "X O O\n",
      "O X O\n"
     ]
    }
   ],
   "source": [
    "if __name__ == \"__main__\":\n",
    "    # Define the algorithm\n",
    "    algorithm = Negamax(7)\n",
    "\n",
    "    # Start the game\n",
    "    GameController([Human_Player(), AI_Player(algorithm)]).play()"
   ]
  },
  {
   "cell_type": "code",
   "execution_count": null,
   "metadata": {},
   "outputs": [],
   "source": []
  }
 ]
}