{
 "metadata": {
  "language_info": {
   "codemirror_mode": {
    "name": "ipython",
    "version": 3
   },
   "file_extension": ".py",
   "mimetype": "text/x-python",
   "name": "python",
   "nbconvert_exporter": "python",
   "pygments_lexer": "ipython3",
   "version": "3.7.6"
  },
  "orig_nbformat": 2,
  "kernelspec": {
   "name": "python376jvsc74a57bd0e3e4e3f8d1004f0635b3e366db2cf4bb93ba9a4575d200ce7de035ae015269d7",
   "display_name": "Python 3.7.6 64-bit ('base': conda)"
  },
  "metadata": {
   "interpreter": {
    "hash": "e3e4e3f8d1004f0635b3e366db2cf4bb93ba9a4575d200ce7de035ae015269d7"
   }
  }
 },
 "nbformat": 4,
 "nbformat_minor": 2,
 "cells": [
  {
   "cell_type": "code",
   "execution_count": 1,
   "metadata": {},
   "outputs": [],
   "source": [
    "import argparse\n",
    "import json\n",
    "import numpy as np"
   ]
  },
  {
   "cell_type": "code",
   "execution_count": 2,
   "metadata": {},
   "outputs": [],
   "source": [
    "def build_arg_parser():\n",
    "    parser = argparse.ArgumentParser(description='Compute similarity score')\n",
    "    parser.add_argument('--user1', dest='user1', required=True,\n",
    "            help='First user')\n",
    "    parser.add_argument('--user2', dest='user2', required=True,\n",
    "            help='Second user')\n",
    "    parser.add_argument(\"--score-type\", dest=\"score_type\", required=True, \n",
    "            choices=['Euclidean', 'Pearson'], help='Similarity metric to be used')\n",
    "    return parser"
   ]
  },
  {
   "cell_type": "code",
   "execution_count": 3,
   "metadata": {},
   "outputs": [],
   "source": [
    "# Compute the Euclidean distance score between user1 and user2 \n",
    "def euclidean_score(dataset, user1, user2):\n",
    "    if user1 not in dataset:\n",
    "        raise TypeError('Cannot find ' + user1 + ' in the dataset')\n",
    "\n",
    "    if user2 not in dataset:\n",
    "        raise TypeError('Cannot find ' + user2 + ' in the dataset')\n",
    "\n",
    "    # Movies rated by both user1 and user2\n",
    "    common_movies = {} \n",
    "\n",
    "    for item in dataset[user1]:\n",
    "        if item in dataset[user2]:\n",
    "            common_movies[item] = 1\n",
    "\n",
    "    # If there are no common movies between the users, \n",
    "    # then the score is 0 \n",
    "    if len(common_movies) == 0:\n",
    "        return 0\n",
    "\n",
    "    squared_diff = [] \n",
    "\n",
    "    for item in dataset[user1]:\n",
    "        if item in dataset[user2]:\n",
    "            squared_diff.append(np.square(dataset[user1][item] - dataset[user2][item]))\n",
    "        \n",
    "    return 1 / (1 + np.sqrt(np.sum(squared_diff))) "
   ]
  },
  {
   "cell_type": "code",
   "execution_count": 4,
   "metadata": {},
   "outputs": [],
   "source": [
    "# Compute the Pearson correlation score between user1 and user2 \n",
    "def pearson_score(dataset, user1, user2):\n",
    "    if user1 not in dataset:\n",
    "        raise TypeError('Cannot find ' + user1 + ' in the dataset')\n",
    "\n",
    "    if user2 not in dataset:\n",
    "        raise TypeError('Cannot find ' + user2 + ' in the dataset')\n",
    "\n",
    "    # Movies rated by both user1 and user2\n",
    "    common_movies = {}\n",
    "\n",
    "    for item in dataset[user1]:\n",
    "        if item in dataset[user2]:\n",
    "            common_movies[item] = 1\n",
    "\n",
    "    num_ratings = len(common_movies) \n",
    "\n",
    "    # If there are no common movies between user1 and user2, then the score is 0 \n",
    "    if num_ratings == 0:\n",
    "        return 0\n",
    "\n",
    "    # Calculate the sum of ratings of all the common movies \n",
    "    user1_sum = np.sum([dataset[user1][item] for item in common_movies])\n",
    "    user2_sum = np.sum([dataset[user2][item] for item in common_movies])\n",
    "\n",
    "    # Calculate the sum of squares of ratings of all the common movies \n",
    "    user1_squared_sum = np.sum([np.square(dataset[user1][item]) for item in common_movies])\n",
    "    user2_squared_sum = np.sum([np.square(dataset[user2][item]) for item in common_movies])\n",
    "\n",
    "    # Calculate the sum of products of the ratings of the common movies\n",
    "    sum_of_products = np.sum([dataset[user1][item] * dataset[user2][item] for item in common_movies])\n",
    "\n",
    "    # Calculate the Pearson correlation score\n",
    "    Sxy = sum_of_products - (user1_sum * user2_sum / num_ratings)\n",
    "    Sxx = user1_squared_sum - np.square(user1_sum) / num_ratings\n",
    "    Syy = user2_squared_sum - np.square(user2_sum) / num_ratings\n",
    "    \n",
    "    if Sxx * Syy == 0:\n",
    "        return 0\n",
    "\n",
    "    return Sxy / np.sqrt(Sxx * Syy)"
   ]
  },
  {
   "cell_type": "code",
   "execution_count": 5,
   "metadata": {},
   "outputs": [
    {
     "output_type": "stream",
     "name": "stderr",
     "text": [
      "usage: ipykernel_launcher.py [-h] --user1 USER1 --user2 USER2 --score-type\n                             {Euclidean,Pearson}\nipykernel_launcher.py: error: the following arguments are required: --user1, --user2, --score-type\n"
     ]
    },
    {
     "output_type": "error",
     "ename": "SystemExit",
     "evalue": "2",
     "traceback": [
      "An exception has occurred, use %tb to see the full traceback.\n",
      "\u001b[0;31mSystemExit\u001b[0m\u001b[0;31m:\u001b[0m 2\n"
     ]
    }
   ],
   "source": [
    "if __name__=='__main__':\n",
    "    args = build_arg_parser().parse_args()\n",
    "    user1 = args.user1\n",
    "    user2 = args.user2\n",
    "    score_type = args.score_type\n",
    "\n",
    "    ratings_file = 'ratings.json'\n",
    "\n",
    "    with open(ratings_file, 'r') as f:\n",
    "        data = json.loads(f.read())\n",
    "\n",
    "    if score_type == 'Euclidean':\n",
    "        print(\"\\nEuclidean score:\")\n",
    "        print(euclidean_score(data, user1, user2))\n",
    "    else: \n",
    "        print(\"\\nPearson score:\")\n",
    "        print(pearson_score(data, user1, user2))"
   ]
  },
  {
   "cell_type": "code",
   "execution_count": null,
   "metadata": {},
   "outputs": [],
   "source": []
  }
 ]
}