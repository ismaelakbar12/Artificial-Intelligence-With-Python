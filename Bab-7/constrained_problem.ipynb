{
 "metadata": {
  "language_info": {
   "codemirror_mode": {
    "name": "ipython",
    "version": 3
   },
   "file_extension": ".py",
   "mimetype": "text/x-python",
   "name": "python",
   "nbconvert_exporter": "python",
   "pygments_lexer": "ipython3",
   "version": "3.7.6"
  },
  "orig_nbformat": 2,
  "kernelspec": {
   "name": "python376jvsc74a57bd0e3e4e3f8d1004f0635b3e366db2cf4bb93ba9a4575d200ce7de035ae015269d7",
   "display_name": "Python 3.7.6 64-bit ('base': conda)"
  },
  "metadata": {
   "interpreter": {
    "hash": "e3e4e3f8d1004f0635b3e366db2cf4bb93ba9a4575d200ce7de035ae015269d7"
   }
  }
 },
 "nbformat": 4,
 "nbformat_minor": 2,
 "cells": [
  {
   "cell_type": "code",
   "execution_count": 1,
   "metadata": {},
   "outputs": [],
   "source": [
    "from simpleai.search import CspProblem, backtrack, \\\n",
    "        min_conflicts, MOST_CONSTRAINED_VARIABLE, \\\n",
    "        HIGHEST_DEGREE_VARIABLE, LEAST_CONSTRAINING_VALUE"
   ]
  },
  {
   "cell_type": "code",
   "execution_count": 2,
   "metadata": {},
   "outputs": [],
   "source": [
    "# Constraint that expects all the different variables \n",
    "# to have different values\n",
    "def constraint_unique(variables, values):\n",
    "    # Check if all the values are unique\n",
    "    return len(values) == len(set(values))"
   ]
  },
  {
   "cell_type": "code",
   "execution_count": 3,
   "metadata": {},
   "outputs": [],
   "source": [
    "# Constraint that specifies that one variable \n",
    "# should be bigger than other\n",
    "def constraint_bigger(variables, values):\n",
    "    return values[0] > values[1]"
   ]
  },
  {
   "cell_type": "code",
   "execution_count": 4,
   "metadata": {},
   "outputs": [],
   "source": [
    "# Constraint that specifies that there should be \n",
    "# one odd and one even variables in the two variables \n",
    "def constraint_odd_even(variables, values):\n",
    "    # If first variable is even, then second should\n",
    "    # be odd and vice versa\n",
    "    if values[0] % 2 == 0:\n",
    "        return values[1] % 2 == 1 \n",
    "    else:\n",
    "        return values[1] % 2 == 0"
   ]
  },
  {
   "cell_type": "code",
   "execution_count": 5,
   "metadata": {},
   "outputs": [
    {
     "output_type": "stream",
     "name": "stdout",
     "text": [
      "\nSolutions:\n\nNormal: {'John': 1, 'Anna': 3, 'Tom': 4, 'Patricia': 2}\n\nMost constrained variable: {'Anna': 1, 'Tom': 2, 'John': 3, 'Patricia': 2}\n\nHighest degree variable: {'John': 1, 'Anna': 3, 'Tom': 4, 'Patricia': 2}\n\nLeast constraining value: {'John': 1, 'Anna': 3, 'Tom': 4, 'Patricia': 2}\n\nMost constrained variable and least constraining value: {'Anna': 1, 'Tom': 2, 'John': 3, 'Patricia': 2}\n\nHighest degree and least constraining value: {'John': 1, 'Anna': 3, 'Tom': 4, 'Patricia': 2}\n\nMinimum conflicts: {'John': 1, 'Anna': 3, 'Tom': 4, 'Patricia': 4}\n"
     ]
    }
   ],
   "source": [
    "if __name__=='__main__':\n",
    "    variables = ('John', 'Anna', 'Tom', 'Patricia')\n",
    "\n",
    "    domains = {\n",
    "        'John': [1, 2, 3],\n",
    "        'Anna': [1, 3],\n",
    "        'Tom': [2, 4],\n",
    "        'Patricia': [2, 3, 4],\n",
    "    }\n",
    "\n",
    "    constraints = [\n",
    "        (('John', 'Anna', 'Tom'), constraint_unique),\n",
    "        (('Tom', 'Anna'), constraint_bigger),\n",
    "        (('John', 'Patricia'), constraint_odd_even),\n",
    "    ]\n",
    "\n",
    "    problem = CspProblem(variables, domains, constraints)\n",
    "\n",
    "    print('\\nSolutions:\\n\\nNormal:', backtrack(problem))\n",
    "    print('\\nMost constrained variable:', backtrack(problem, \n",
    "            variable_heuristic=MOST_CONSTRAINED_VARIABLE))\n",
    "    print('\\nHighest degree variable:', backtrack(problem, \n",
    "            variable_heuristic=HIGHEST_DEGREE_VARIABLE))\n",
    "    print('\\nLeast constraining value:', backtrack(problem, \n",
    "            value_heuristic=LEAST_CONSTRAINING_VALUE))\n",
    "    print('\\nMost constrained variable and least constraining value:', \n",
    "            backtrack(problem, variable_heuristic=MOST_CONSTRAINED_VARIABLE, \n",
    "            value_heuristic=LEAST_CONSTRAINING_VALUE))\n",
    "    print('\\nHighest degree and least constraining value:', \n",
    "            backtrack(problem, variable_heuristic=HIGHEST_DEGREE_VARIABLE, \n",
    "            value_heuristic=LEAST_CONSTRAINING_VALUE))\n",
    "    print('\\nMinimum conflicts:', min_conflicts(problem))\n"
   ]
  },
  {
   "cell_type": "code",
   "execution_count": null,
   "metadata": {},
   "outputs": [],
   "source": []
  }
 ]
}