{
 "metadata": {
  "language_info": {
   "codemirror_mode": {
    "name": "ipython",
    "version": 3
   },
   "file_extension": ".py",
   "mimetype": "text/x-python",
   "name": "python",
   "nbconvert_exporter": "python",
   "pygments_lexer": "ipython3",
   "version": "3.7.6"
  },
  "orig_nbformat": 2,
  "kernelspec": {
   "name": "python376jvsc74a57bd0e3e4e3f8d1004f0635b3e366db2cf4bb93ba9a4575d200ce7de035ae015269d7",
   "display_name": "Python 3.7.6 64-bit ('base': conda)"
  },
  "metadata": {
   "interpreter": {
    "hash": "e3e4e3f8d1004f0635b3e366db2cf4bb93ba9a4575d200ce7de035ae015269d7"
   }
  }
 },
 "nbformat": 4,
 "nbformat_minor": 2,
 "cells": [
  {
   "cell_type": "code",
   "execution_count": 1,
   "metadata": {},
   "outputs": [],
   "source": [
    "from simpleai.search import CspProblem, backtrack"
   ]
  },
  {
   "cell_type": "code",
   "execution_count": 2,
   "metadata": {},
   "outputs": [],
   "source": [
    "# Define the function that imposes the constraint\n",
    "# that neighbors should be different\n",
    "def constraint_func(names, values):\n",
    "    return values[0] != values[1]"
   ]
  },
  {
   "cell_type": "code",
   "execution_count": 3,
   "metadata": {},
   "outputs": [
    {
     "output_type": "stream",
     "name": "stdout",
     "text": [
      "\nColor mapping:\n\nMark ==> red\nJulia ==> green\nSteve ==> blue\nAmanda ==> red\nBrian ==> red\nJoanne ==> green\nDerek ==> blue\nAllan ==> red\nMichelle ==> gray\nKelly ==> gray\n"
     ]
    }
   ],
   "source": [
    "if __name__=='__main__':\n",
    "    # Specify the variables\n",
    "    names = ('Mark', 'Julia', 'Steve', 'Amanda', 'Brian', \n",
    "            'Joanne', 'Derek', 'Allan', 'Michelle', 'Kelly')\n",
    "\n",
    "    # Define the possible colors \n",
    "    colors = dict((name, ['red', 'green', 'blue', 'gray']) for name in names)\n",
    "\n",
    "    # Define the constraints \n",
    "    constraints = [\n",
    "        (('Mark', 'Julia'), constraint_func),\n",
    "        (('Mark', 'Steve'), constraint_func),\n",
    "        (('Julia', 'Steve'), constraint_func),\n",
    "        (('Julia', 'Amanda'), constraint_func),\n",
    "        (('Julia', 'Derek'), constraint_func),\n",
    "        (('Julia', 'Brian'), constraint_func),\n",
    "        (('Steve', 'Amanda'), constraint_func),\n",
    "        (('Steve', 'Allan'), constraint_func),\n",
    "        (('Steve', 'Michelle'), constraint_func),\n",
    "        (('Amanda', 'Michelle'), constraint_func),\n",
    "        (('Amanda', 'Joanne'), constraint_func),\n",
    "        (('Amanda', 'Derek'), constraint_func),\n",
    "        (('Brian', 'Derek'), constraint_func),\n",
    "        (('Brian', 'Kelly'), constraint_func),\n",
    "        (('Joanne', 'Michelle'), constraint_func),\n",
    "        (('Joanne', 'Amanda'), constraint_func),\n",
    "        (('Joanne', 'Derek'), constraint_func),\n",
    "        (('Joanne', 'Kelly'), constraint_func),\n",
    "        (('Derek', 'Kelly'), constraint_func),\n",
    "    ]\n",
    "\n",
    "    # Solve the problem\n",
    "    problem = CspProblem(names, colors, constraints)\n",
    "\n",
    "    # Print the solution\n",
    "    output = backtrack(problem)\n",
    "    print('\\nColor mapping:\\n')\n",
    "    for k, v in output.items():\n",
    "        print(k, '==>', v)\n"
   ]
  },
  {
   "cell_type": "code",
   "execution_count": null,
   "metadata": {},
   "outputs": [],
   "source": []
  }
 ]
}