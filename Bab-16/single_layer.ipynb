{
 "metadata": {
  "language_info": {
   "codemirror_mode": {
    "name": "ipython",
    "version": 3
   },
   "file_extension": ".py",
   "mimetype": "text/x-python",
   "name": "python",
   "nbconvert_exporter": "python",
   "pygments_lexer": "ipython3",
   "version": "3.8.5"
  },
  "orig_nbformat": 2,
  "kernelspec": {
   "name": "python385jvsc74a57bd0b5a0abbd2bc4ea37d9b6b1d8de5644861781fafbaaede6695a6bae5cb7967bfd",
   "display_name": "Python 3.8.5 64-bit ('base': conda)"
  }
 },
 "nbformat": 4,
 "nbformat_minor": 2,
 "cells": [
  {
   "cell_type": "code",
   "execution_count": null,
   "metadata": {},
   "outputs": [],
   "source": [
    "import argparse\n",
    "\n",
    "import tensorflow as tf\n",
    "# import tensorflow.compat.v1 as tf\n",
    "# tf.disable_v2_behavior()\n",
    "print(tf.__version__)\n",
    "\n",
    "from tensorflow.examples.tutorials.mnist import input_data"
   ]
  },
  {
   "cell_type": "code",
   "execution_count": null,
   "metadata": {},
   "outputs": [],
   "source": [
    "def build_arg_parser():\n",
    "    parser = argparse.ArgumentParser(description='Build a classifier using \\\n",
    "            MNIST data')\n",
    "    parser.add_argument('--input-dir', dest='input_dir', type=str, \n",
    "            default='./mnist_data', help='Directory for storing data')\n",
    "    return parser"
   ]
  },
  {
   "cell_type": "code",
   "execution_count": null,
   "metadata": {},
   "outputs": [],
   "source": [
    "if __name__ == '__main__':\n",
    "    args = build_arg_parser().parse_args()\n",
    "\n",
    "    # Get the MNIST data\n",
    "    mnist = input_data.read_data_sets(args.input_dir, one_hot=True)\n",
    "\n",
    "    # The images are 28x28, so create the input layer \n",
    "    # with 784 neurons (28x28=784) \n",
    "    x = tf.placeholder(tf.float32, [None, 784])\n",
    "\n",
    "    # Create a layer with weights and biases. There are 10 distinct \n",
    "    # digits, so the output layer should have 10 classes\n",
    "    W = tf.Variable(tf.zeros([784, 10]))\n",
    "    b = tf.Variable(tf.zeros([10]))\n",
    "\n",
    "    # Create the equation for 'y' using y = W*x + b\n",
    "    y = tf.matmul(x, W) + b\n",
    "\n",
    "    # Define the entropy loss and the gradient descent optimizer\n",
    "    y_loss = tf.placeholder(tf.float32, [None, 10])\n",
    "    loss = tf.reduce_mean(tf.nn.softmax_cross_entropy_with_logits(y, y_loss))\n",
    "    optimizer = tf.train.GradientDescentOptimizer(0.5).minimize(loss)\n",
    "\n",
    "    # Initialize all the variables \n",
    "    init = tf.initialize_all_variables()\n",
    "\n",
    "    # Create a session\n",
    "    session = tf.Session()\n",
    "    session.run(init)\n",
    "\n",
    "    # Start training\n",
    "    num_iterations = 1200\n",
    "    batch_size = 90\n",
    "    for _ in range(num_iterations):\n",
    "        # Get the next batch of images\n",
    "        x_batch, y_batch = mnist.train.next_batch(batch_size)\n",
    "\n",
    "        # Train on this batch of images\n",
    "        session.run(optimizer, feed_dict = {x: x_batch, y_loss: y_batch})\n",
    "\n",
    "    # Compute the accuracy using test data\n",
    "    predicted = tf.equal(tf.argmax(y, 1), tf.argmax(y_loss, 1))\n",
    "    accuracy = tf.reduce_mean(tf.cast(predicted, tf.float32))\n",
    "    print('\\nAccuracy =', session.run(accuracy, feed_dict = {\n",
    "            x: mnist.test.images, \n",
    "            y_loss: mnist.test.labels}))\n"
   ]
  }
 ]
}