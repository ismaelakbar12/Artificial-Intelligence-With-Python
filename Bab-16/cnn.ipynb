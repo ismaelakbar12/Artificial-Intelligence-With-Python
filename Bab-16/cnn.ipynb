{
 "metadata": {
  "language_info": {
   "codemirror_mode": {
    "name": "ipython",
    "version": 3
   },
   "file_extension": ".py",
   "mimetype": "text/x-python",
   "name": "python",
   "nbconvert_exporter": "python",
   "pygments_lexer": "ipython3",
   "version": "3.8.5"
  },
  "orig_nbformat": 2,
  "kernelspec": {
   "name": "python385jvsc74a57bd0b5a0abbd2bc4ea37d9b6b1d8de5644861781fafbaaede6695a6bae5cb7967bfd",
   "display_name": "Python 3.8.5 64-bit ('base': conda)"
  }
 },
 "nbformat": 4,
 "nbformat_minor": 2,
 "cells": [
  {
   "cell_type": "code",
   "execution_count": null,
   "metadata": {},
   "outputs": [],
   "source": [
    "import argparse\n",
    "\n",
    "import tensorflow as tf\n",
    "from tensorflow.examples.tutorials.mnist import input_data"
   ]
  },
  {
   "cell_type": "code",
   "execution_count": null,
   "metadata": {},
   "outputs": [],
   "source": [
    "def build_arg_parser():\n",
    "    parser = argparse.ArgumentParser(description='Build a CNN classifier \\\n",
    "            using MNIST data')\n",
    "    parser.add_argument('--input-dir', dest='input_dir', type=str, \n",
    "            default='./mnist_data', help='Directory for storing data')\n",
    "    return parser"
   ]
  },
  {
   "cell_type": "code",
   "execution_count": null,
   "metadata": {},
   "outputs": [],
   "source": [
    "def get_weights(shape):\n",
    "    data = tf.truncated_normal(shape, stddev=0.1)\n",
    "    return tf.Variable(data)"
   ]
  },
  {
   "cell_type": "code",
   "execution_count": null,
   "metadata": {},
   "outputs": [],
   "source": [
    "def get_biases(shape):\n",
    "    data = tf.constant(0.1, shape=shape)\n",
    "    return tf.Variable(data)"
   ]
  },
  {
   "cell_type": "code",
   "execution_count": null,
   "metadata": {},
   "outputs": [],
   "source": [
    "def create_layer(shape):\n",
    "    # Get the weights and biases \n",
    "    W = get_weights(shape)\n",
    "    b = get_biases([shape[-1]])\n",
    "\n",
    "    return W, b\n"
   ]
  },
  {
   "cell_type": "code",
   "execution_count": null,
   "metadata": {},
   "outputs": [],
   "source": [
    "def convolution_2d(x, W):\n",
    "    return tf.nn.conv2d(x, W, strides=[1, 1, 1, 1], \n",
    "            padding='SAME')\n"
   ]
  },
  {
   "cell_type": "code",
   "execution_count": null,
   "metadata": {},
   "outputs": [],
   "source": [
    "def max_pooling(x):\n",
    "    return tf.nn.max_pool(x, ksize=[1, 2, 2, 1], \n",
    "            strides=[1, 2, 2, 1], padding='SAME')\n"
   ]
  },
  {
   "cell_type": "code",
   "execution_count": null,
   "metadata": {},
   "outputs": [],
   "source": [
    "if __name__ == '__main__':\n",
    "    args = build_arg_parser().parse_args()\n",
    "\n",
    "    # Get the MNIST data\n",
    "    mnist = input_data.read_data_sets(args.input_dir, one_hot=True)\n",
    "\n",
    "    # The images are 28x28, so create the input layer \n",
    "    # with 784 neurons (28x28=784) \n",
    "    x = tf.placeholder(tf.float32, [None, 784])\n",
    "\n",
    "    # Reshape 'x' into a 4D tensor \n",
    "    x_image = tf.reshape(x, [-1, 28, 28, 1])\n",
    "\n",
    "    # Define the first convolutional layer\n",
    "    W_conv1, b_conv1 = create_layer([5, 5, 1, 32])\n",
    "\n",
    "    # Convolve the image with weight tensor, add the \n",
    "    # bias, and then apply the ReLU function\n",
    "    h_conv1 = tf.nn.relu(convolution_2d(x_image, W_conv1) + b_conv1)\n",
    "\n",
    "    # Apply the max pooling operator\n",
    "    h_pool1 = max_pooling(h_conv1)\n",
    "\n",
    "    # Define the second convolutional layer\n",
    "    W_conv2, b_conv2 = create_layer([5, 5, 32, 64])\n",
    "\n",
    "    # Convolve the output of previous layer with the \n",
    "    # weight tensor, add the bias, and then apply \n",
    "    # the ReLU function\n",
    "    h_conv2 = tf.nn.relu(convolution_2d(h_pool1, W_conv2) + b_conv2)\n",
    "\n",
    "    # Apply the max pooling operator\n",
    "    h_pool2 = max_pooling(h_conv2)\n",
    "\n",
    "    # Define the fully connected layer\n",
    "    W_fc1, b_fc1 = create_layer([7 * 7 * 64, 1024])\n",
    "\n",
    "    # Reshape the output of the previous layer\n",
    "    h_pool2_flat = tf.reshape(h_pool2, [-1, 7*7*64])\n",
    "\n",
    "    # Multiply the output of previous layer by the \n",
    "    # weight tensor, add the bias, and then apply \n",
    "    # the ReLU function\n",
    "    h_fc1 = tf.nn.relu(tf.matmul(h_pool2_flat, W_fc1) + b_fc1)\n",
    "\n",
    "    # Define the dropout layer using a probability placeholder\n",
    "    # for all the neurons\n",
    "    keep_prob = tf.placeholder(tf.float32)\n",
    "    h_fc1_drop = tf.nn.dropout(h_fc1, keep_prob)\n",
    "\n",
    "    # Define the readout layer (output layer)\n",
    "    W_fc2, b_fc2 = create_layer([1024, 10])\n",
    "    y_conv = tf.matmul(h_fc1_drop, W_fc2) + b_fc2\n",
    "\n",
    "    # Define the entropy loss and the optimizer\n",
    "    y_loss = tf.placeholder(tf.float32, [None, 10])\n",
    "    loss = tf.reduce_mean(tf.nn.softmax_cross_entropy_with_logits(y_conv, y_loss))\n",
    "    optimizer = tf.train.AdamOptimizer(1e-4).minimize(loss)\n",
    "\n",
    "    # Define the accuracy computation\n",
    "    predicted = tf.equal(tf.argmax(y_conv, 1), tf.argmax(y_loss, 1))\n",
    "    accuracy = tf.reduce_mean(tf.cast(predicted, tf.float32))\n",
    "\n",
    "    # Create and run a session\n",
    "    sess = tf.InteractiveSession()\n",
    "    init = tf.initialize_all_variables()\n",
    "    sess.run(init)\n",
    "\n",
    "    # Start training\n",
    "    num_iterations = 21000\n",
    "    batch_size = 75\n",
    "    print('\\nTraining the model....')\n",
    "    for i in range(num_iterations):\n",
    "        # Get the next batch of images\n",
    "        batch = mnist.train.next_batch(batch_size)\n",
    "\n",
    "        # Print progress\n",
    "        if i % 50 == 0:\n",
    "            cur_accuracy = accuracy.eval(feed_dict = {\n",
    "                    x: batch[0], y_loss: batch[1], keep_prob: 1.0})\n",
    "            print('Iteration', i, ', Accuracy =', cur_accuracy)\n",
    "        \n",
    "        # Train on the current batch\n",
    "        optimizer.run(feed_dict = {x: batch[0], y_loss: batch[1], keep_prob: 0.5})\n",
    "\n",
    "    # Compute accuracy using test data\n",
    "    print('Test accuracy =', accuracy.eval(feed_dict = {\n",
    "            x: mnist.test.images, y_loss: mnist.test.labels, \n",
    "            keep_prob: 1.0}))\n"
   ]
  }
 ]
}