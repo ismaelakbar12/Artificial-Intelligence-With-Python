{
 "metadata": {
  "language_info": {
   "codemirror_mode": {
    "name": "ipython",
    "version": 3
   },
   "file_extension": ".py",
   "mimetype": "text/x-python",
   "name": "python",
   "nbconvert_exporter": "python",
   "pygments_lexer": "ipython3",
   "version": "3.7.6"
  },
  "orig_nbformat": 2,
  "kernelspec": {
   "name": "python376jvsc74a57bd0e3e4e3f8d1004f0635b3e366db2cf4bb93ba9a4575d200ce7de035ae015269d7",
   "display_name": "Python 3.7.6 64-bit ('base': conda)"
  },
  "metadata": {
   "interpreter": {
    "hash": "e3e4e3f8d1004f0635b3e366db2cf4bb93ba9a4575d200ce7de035ae015269d7"
   }
  }
 },
 "nbformat": 4,
 "nbformat_minor": 2,
 "cells": [
  {
   "cell_type": "code",
   "execution_count": 1,
   "metadata": {},
   "outputs": [],
   "source": [
    "import json\n",
    "from logpy import Relation, facts, run, conde, var, eq"
   ]
  },
  {
   "cell_type": "code",
   "execution_count": 2,
   "metadata": {},
   "outputs": [],
   "source": [
    "# Check if 'x' is the parent of 'y'\n",
    "def parent(x, y):\n",
    "    return conde([father(x, y)], [mother(x, y)])"
   ]
  },
  {
   "cell_type": "code",
   "execution_count": 3,
   "metadata": {},
   "outputs": [],
   "source": [
    "# Check if 'x' is the grandparent of 'y'\n",
    "def grandparent(x, y):\n",
    "    temp = var()\n",
    "    return conde((parent(x, temp), parent(temp, y)))"
   ]
  },
  {
   "cell_type": "code",
   "execution_count": 4,
   "metadata": {},
   "outputs": [],
   "source": [
    "# Check for sibling relationship between 'a' and 'b'\n",
    "def sibling(x, y):\n",
    "    temp = var()\n",
    "    return conde((parent(temp, x), parent(temp, y)))"
   ]
  },
  {
   "cell_type": "code",
   "execution_count": 5,
   "metadata": {},
   "outputs": [],
   "source": [
    "# Check if x is y's uncle\n",
    "def uncle(x, y):\n",
    "    temp = var()\n",
    "    return conde((father(temp, x), grandparent(temp, y)))"
   ]
  },
  {
   "cell_type": "code",
   "execution_count": 6,
   "metadata": {},
   "outputs": [
    {
     "output_type": "stream",
     "name": "stdout",
     "text": [
      "\nList of John's children:\nDavid\nWilliam\nAdam\n\nWilliam's mother:\nMegan\n\nList of Adam's parents:\nJohn\nMegan\n\nList of Wayne's grandparents:\nJohn\nMegan\n\nList of Megan's grandchildren:\nChris\nNeil\nSophia\nStephanie\nJulie\nPeter\nWayne\nTiffany\n\nList of David's siblings:\nAdam\nWilliam\n\nList of Tiffany's uncles:\nWilliam\nAdam\n\nList of all spouses:\nHusband: John <==> Wife: Megan\nHusband: David <==> Wife: Olivia\nHusband: William <==> Wife: Emma\nHusband: Adam <==> Wife: Lily\n"
     ]
    }
   ],
   "source": [
    "if __name__=='__main__':\n",
    "    father = Relation()\n",
    "    mother = Relation()\n",
    "\n",
    "    with open('relationships.json') as f:\n",
    "        d = json.loads(f.read())\n",
    "\n",
    "    for item in d['father']:\n",
    "        facts(father, (list(item.keys())[0], list(item.values())[0]))\n",
    "\n",
    "    for item in d['mother']:\n",
    "        facts(mother, (list(item.keys())[0], list(item.values())[0]))\n",
    "\n",
    "    x = var()\n",
    "\n",
    "    # John's children\n",
    "    name = 'John'\n",
    "    output = run(0, x, father(name, x))\n",
    "    print(\"\\nList of \" + name + \"'s children:\")\n",
    "    for item in output:\n",
    "        print(item)\n",
    "\n",
    "    # William's mother\n",
    "    name = 'William'\n",
    "    output = run(0, x, mother(x, name))[0]\n",
    "    print(\"\\n\" + name + \"'s mother:\\n\" + output)\n",
    "\n",
    "    # Adam's parents \n",
    "    name = 'Adam'\n",
    "    output = run(0, x, parent(x, name))\n",
    "    print(\"\\nList of \" + name + \"'s parents:\")\n",
    "    for item in output:\n",
    "        print(item)\n",
    "\n",
    "    # Wayne's grandparents \n",
    "    name = 'Wayne'\n",
    "    output = run(0, x, grandparent(x, name))\n",
    "    print(\"\\nList of \" + name + \"'s grandparents:\")\n",
    "    for item in output:\n",
    "        print(item)\n",
    "\n",
    "    # Megan's grandchildren \n",
    "    name = 'Megan'\n",
    "    output = run(0, x, grandparent(name, x))\n",
    "    print(\"\\nList of \" + name + \"'s grandchildren:\")\n",
    "    for item in output:\n",
    "        print(item)\n",
    "\n",
    "    # David's siblings \n",
    "    name = 'David'\n",
    "    output = run(0, x, sibling(x, name))\n",
    "    siblings = [x for x in output if x != name]\n",
    "    print(\"\\nList of \" + name + \"'s siblings:\")\n",
    "    for item in siblings:\n",
    "        print(item)\n",
    "\n",
    "    # Tiffany's uncles\n",
    "    name = 'Tiffany'\n",
    "    name_father = run(0, x, father(x, name))[0]\n",
    "    output = run(0, x, uncle(x, name))\n",
    "    output = [x for x in output if x != name_father]\n",
    "    print(\"\\nList of \" + name + \"'s uncles:\")\n",
    "    for item in output:\n",
    "        print(item)\n",
    "\n",
    "    # All spouses\n",
    "    a, b, c = var(), var(), var()\n",
    "    output = run(0, (a, b), (father, a, c), (mother, b, c))\n",
    "    print(\"\\nList of all spouses:\")\n",
    "    for item in output:\n",
    "        print('Husband:', item[0], '<==> Wife:', item[1])\n"
   ]
  },
  {
   "cell_type": "code",
   "execution_count": null,
   "metadata": {},
   "outputs": [],
   "source": []
  }
 ]
}