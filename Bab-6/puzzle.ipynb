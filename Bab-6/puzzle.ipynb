{
 "metadata": {
  "language_info": {
   "codemirror_mode": {
    "name": "ipython",
    "version": 3
   },
   "file_extension": ".py",
   "mimetype": "text/x-python",
   "name": "python",
   "nbconvert_exporter": "python",
   "pygments_lexer": "ipython3",
   "version": "3.7.6"
  },
  "orig_nbformat": 2,
  "kernelspec": {
   "name": "python376jvsc74a57bd0e3e4e3f8d1004f0635b3e366db2cf4bb93ba9a4575d200ce7de035ae015269d7",
   "display_name": "Python 3.7.6 64-bit ('base': conda)"
  },
  "metadata": {
   "interpreter": {
    "hash": "e3e4e3f8d1004f0635b3e366db2cf4bb93ba9a4575d200ce7de035ae015269d7"
   }
  }
 },
 "nbformat": 4,
 "nbformat_minor": 2,
 "cells": [
  {
   "cell_type": "code",
   "execution_count": 1,
   "metadata": {},
   "outputs": [],
   "source": [
    "from logpy import *\n",
    "from logpy.core import lall"
   ]
  },
  {
   "cell_type": "code",
   "execution_count": 2,
   "metadata": {},
   "outputs": [],
   "source": [
    "# Declare the variable\n",
    "people = var()"
   ]
  },
  {
   "cell_type": "code",
   "execution_count": 3,
   "metadata": {},
   "outputs": [],
   "source": [
    "# Define the rules\n",
    "rules = lall(\n",
    "    # There are 4 people\n",
    "    (eq, (var(), var(), var(), var()), people),\n",
    "\n",
    "    # Steve's car is blue\n",
    "    (membero, ('Steve', var(), 'blue', var()), people),\n",
    "\n",
    "    # Person who owns the cat lives in Canada \n",
    "    (membero, (var(), 'cat', var(), 'Canada'), people),\n",
    "\n",
    "    # Matthew lives in USA\n",
    "    (membero, ('Matthew', var(), var(), 'USA'), people),\n",
    "\n",
    "    # The person who has a black car lives in Australia\n",
    "    (membero, (var(), var(), 'black', 'Australia'), people),\n",
    "\n",
    "    # Jack has a cat\n",
    "    (membero, ('Jack', 'cat', var(), var()), people),\n",
    "\n",
    "    # Alfred lives in Australia\n",
    "    (membero, ('Alfred', var(), var(), 'Australia'), people),\n",
    "\n",
    "    # Person who owns the dog lives in France \n",
    "    (membero, (var(), 'dog', var(), 'France'), people),\n",
    "\n",
    "    # Who is the owner of the rabbit? \n",
    "    (membero, (var(), 'rabbit', var(), var()), people)\n",
    ")\n",
    "\n"
   ]
  },
  {
   "cell_type": "code",
   "execution_count": 4,
   "metadata": {},
   "outputs": [],
   "source": [
    "# Run the solver\n",
    "solutions = run(0, people, rules)"
   ]
  },
  {
   "cell_type": "code",
   "execution_count": 5,
   "metadata": {},
   "outputs": [],
   "source": [
    "# Extract the output\n",
    "output = [house for house in solutions[0] if 'rabbit' in house][0][0]"
   ]
  },
  {
   "cell_type": "code",
   "execution_count": 6,
   "metadata": {},
   "outputs": [
    {
     "output_type": "stream",
     "name": "stdout",
     "text": [
      "\nMatthew is the owner of the rabbit\n\nHere are all the details:\n\nName\t\tPet\t\tColor\t\tCountry\n=========================================================\n\nSteve\t\tdog\t\tblue\t\tFrance\n\nJack\t\tcat\t\t~_9\t\tCanada\n\nMatthew\t\trabbit\t\t~_11\t\tUSA\n\nAlfred\t\t~_13\t\tblack\t\tAustralia\n"
     ]
    }
   ],
   "source": [
    "# Print the output\n",
    "print('\\n' + output + ' is the owner of the rabbit')\n",
    "print('\\nHere are all the details:')\n",
    "attribs = ['Name', 'Pet', 'Color', 'Country']\n",
    "print('\\n' + '\\t\\t'.join(attribs))\n",
    "print('=' * 57)\n",
    "for item in solutions[0]:\n",
    "    print('')\n",
    "    print('\\t\\t'.join([str(x) for x in item]))"
   ]
  },
  {
   "cell_type": "code",
   "execution_count": null,
   "metadata": {},
   "outputs": [],
   "source": []
  }
 ]
}