{
 "metadata": {
  "language_info": {
   "codemirror_mode": {
    "name": "ipython",
    "version": 3
   },
   "file_extension": ".py",
   "mimetype": "text/x-python",
   "name": "python",
   "nbconvert_exporter": "python",
   "pygments_lexer": "ipython3",
   "version": "3.7.6"
  },
  "orig_nbformat": 2,
  "kernelspec": {
   "name": "python376jvsc74a57bd0e3e4e3f8d1004f0635b3e366db2cf4bb93ba9a4575d200ce7de035ae015269d7",
   "display_name": "Python 3.7.6 64-bit ('base': conda)"
  },
  "metadata": {
   "interpreter": {
    "hash": "e3e4e3f8d1004f0635b3e366db2cf4bb93ba9a4575d200ce7de035ae015269d7"
   }
  }
 },
 "nbformat": 4,
 "nbformat_minor": 2,
 "cells": [
  {
   "cell_type": "code",
   "execution_count": 6,
   "metadata": {},
   "outputs": [],
   "source": [
    "import itertools as it\n",
    "#import logpy.core as lc\n",
    "from logpy import run, eq, membero, var, conde\n",
    "from sympy.ntheory.generate import prime, isprime"
   ]
  },
  {
   "cell_type": "code",
   "execution_count": 7,
   "metadata": {},
   "outputs": [],
   "source": [
    "# Check if the elements of x are prime\n",
    "def check_prime(x):\n",
    "    if lc.isvar(x):\n",
    "        return lc.condeseq([(lc.eq, x, p)] for p in map(prime, it.count(1)))\n",
    "    else:\n",
    "        return lc.success if isprime(x) else lc.fail"
   ]
  },
  {
   "cell_type": "code",
   "execution_count": 8,
   "metadata": {},
   "outputs": [],
   "source": [
    "# Declate the variable\n",
    "x = lc.var()"
   ]
  },
  {
   "cell_type": "code",
   "execution_count": 10,
   "metadata": {},
   "outputs": [
    {
     "output_type": "stream",
     "name": "stdout",
     "text": [
      "\nList of primes in the list:\n{3, 11, 13, 17, 19, 23, 29}\n"
     ]
    }
   ],
   "source": [
    "# Check if an element in the list is a prime number# Check if an element in the list is a prime number\n",
    "list_nums = (23, 4, 27, 17, 13, 10, 21, 29, 3, 32, 11, 19)\n",
    "print('\\nList of primes in the list:')\n",
    "#print(set(lc.run(0, x, (lc.membero, x, list_nums), (check_prime, x))))\n",
    "print(set(lc.run(0, x, (membero, x, list_nums), (check_prime, x))))"
   ]
  },
  {
   "cell_type": "code",
   "execution_count": 11,
   "metadata": {},
   "outputs": [
    {
     "output_type": "stream",
     "name": "stdout",
     "text": [
      "\nList of first 7 prime numbers:\n(2, 3, 5, 7, 11, 13, 17)\n"
     ]
    }
   ],
   "source": [
    "# Print first 7 prime numbers\n",
    "print('\\nList of first 7 prime numbers:')\n",
    "print(lc.run(7, x, check_prime(x)))"
   ]
  },
  {
   "cell_type": "code",
   "execution_count": null,
   "metadata": {},
   "outputs": [],
   "source": []
  }
 ]
}