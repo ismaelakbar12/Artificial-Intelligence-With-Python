{
 "metadata": {
  "language_info": {
   "codemirror_mode": {
    "name": "ipython",
    "version": 3
   },
   "file_extension": ".py",
   "mimetype": "text/x-python",
   "name": "python",
   "nbconvert_exporter": "python",
   "pygments_lexer": "ipython3",
   "version": "3.7.6"
  },
  "orig_nbformat": 2,
  "kernelspec": {
   "name": "python376jvsc74a57bd0e3e4e3f8d1004f0635b3e366db2cf4bb93ba9a4575d200ce7de035ae015269d7",
   "display_name": "Python 3.7.6 64-bit ('base': conda)"
  },
  "metadata": {
   "interpreter": {
    "hash": "e3e4e3f8d1004f0635b3e366db2cf4bb93ba9a4575d200ce7de035ae015269d7"
   }
  }
 },
 "nbformat": 4,
 "nbformat_minor": 2,
 "cells": [
  {
   "cell_type": "code",
   "execution_count": 3,
   "metadata": {},
   "outputs": [],
   "source": [
    "from logpy import run, var, fact\n",
    "import logpy.assoccomm as la"
   ]
  },
  {
   "cell_type": "code",
   "execution_count": 4,
   "metadata": {},
   "outputs": [],
   "source": [
    "# Define mathematical operations\n",
    "add = 'addition'\n",
    "mul = 'multiplication'"
   ]
  },
  {
   "cell_type": "code",
   "execution_count": 5,
   "metadata": {},
   "outputs": [],
   "source": [
    "# Declare that these operations are commutative\n",
    "# using the facts system\n",
    "fact(la.commutative, mul)\n",
    "fact(la.commutative, add)\n",
    "fact(la.associative, mul)\n",
    "fact(la.associative, add)"
   ]
  },
  {
   "cell_type": "code",
   "execution_count": 6,
   "metadata": {},
   "outputs": [],
   "source": [
    "# Define some variables\n",
    "a, b, c = var('a'), var('b'), var('c')"
   ]
  },
  {
   "cell_type": "code",
   "execution_count": 8,
   "metadata": {},
   "outputs": [],
   "source": [
    "# Generate expressions\n",
    "expression_orig = (add, (mul, 3, -2), (mul, (add, 1, (mul, 2, 3)), -1))\n",
    "expression1 = (add, (mul, (add, 1, (mul, 2, a)), b), (mul, 3, c))\n",
    "expression2 = (add, (mul, c, 3), (mul, b, (add, (mul, 2, a), 1)))\n",
    "expression3 = (add, (add, (mul, (mul, 2, a), b), b), (mul, 3, c))"
   ]
  },
  {
   "cell_type": "code",
   "execution_count": 9,
   "metadata": {},
   "outputs": [
    {
     "output_type": "stream",
     "name": "stdout",
     "text": [
      "((3, -1, -2),)\n((3, -1, -2),)\n()\n"
     ]
    }
   ],
   "source": [
    "# Compare expressions\n",
    "print(run(0, (a, b, c), la.eq_assoccomm(expression1, expression_orig)))\n",
    "print(run(0, (a, b, c), la.eq_assoccomm(expression2, expression_orig)))\n",
    "print(run(0, (a, b, c), la.eq_assoccomm(expression3, expression_orig)))"
   ]
  },
  {
   "cell_type": "code",
   "execution_count": null,
   "metadata": {},
   "outputs": [],
   "source": []
  }
 ]
}