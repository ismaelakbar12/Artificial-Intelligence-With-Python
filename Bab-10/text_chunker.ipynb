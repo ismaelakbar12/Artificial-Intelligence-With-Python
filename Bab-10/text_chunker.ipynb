{
 "metadata": {
  "language_info": {
   "codemirror_mode": {
    "name": "ipython",
    "version": 3
   },
   "file_extension": ".py",
   "mimetype": "text/x-python",
   "name": "python",
   "nbconvert_exporter": "python",
   "pygments_lexer": "ipython3",
   "version": "3.7.6"
  },
  "orig_nbformat": 2,
  "kernelspec": {
   "name": "python376jvsc74a57bd0e3e4e3f8d1004f0635b3e366db2cf4bb93ba9a4575d200ce7de035ae015269d7",
   "display_name": "Python 3.7.6 64-bit ('base': conda)"
  },
  "metadata": {
   "interpreter": {
    "hash": "e3e4e3f8d1004f0635b3e366db2cf4bb93ba9a4575d200ce7de035ae015269d7"
   }
  }
 },
 "nbformat": 4,
 "nbformat_minor": 2,
 "cells": [
  {
   "cell_type": "code",
   "execution_count": 1,
   "metadata": {},
   "outputs": [],
   "source": [
    "import numpy as np\n",
    "from nltk.corpus import brown"
   ]
  },
  {
   "cell_type": "code",
   "execution_count": 2,
   "metadata": {},
   "outputs": [],
   "source": [
    "# Split the input text into chunks, where\n",
    "# each chunk contains N words\n",
    "def chunker(input_data, N):\n",
    "    input_words = input_data.split(' ')\n",
    "    output = []\n",
    "\n",
    "    cur_chunk = []\n",
    "    count = 0\n",
    "    for word in input_words:\n",
    "        cur_chunk.append(word)\n",
    "        count += 1\n",
    "        if count == N:\n",
    "            output.append(' '.join(cur_chunk))\n",
    "            count, cur_chunk = 0, []\n",
    "\n",
    "    output.append(' '.join(cur_chunk))\n",
    "\n",
    "    return output "
   ]
  },
  {
   "cell_type": "code",
   "execution_count": 3,
   "metadata": {},
   "outputs": [
    {
     "output_type": "stream",
     "name": "stdout",
     "text": [
      "\nNumber of text chunks = 18 \n\nChunk 1 ==> The Fulton County Grand Jury said Friday an invest\nChunk 2 ==> '' . ( 2 ) Fulton legislators `` work with city of\nChunk 3 ==> . Construction bonds Meanwhile , it was learned th\nChunk 4 ==> , anonymous midnight phone calls and veiled threat\nChunk 5 ==> Harris , Bexar , Tarrant and El Paso would be $451\nChunk 6 ==> set it for public hearing on Feb. 22 . The proposa\nChunk 7 ==> College . He has served as a border patrolman and \nChunk 8 ==> of his staff were doing on the address involved co\nChunk 9 ==> plan alone would boost the base to $5,000 a year a\nChunk 10 ==> nursing homes In the area of `` community health s\nChunk 11 ==> of its Angola policy prove harsh , there has been \nChunk 12 ==> system which will prevent Laos from being used as \nChunk 13 ==> reform in recipient nations . In Laos , the admini\nChunk 14 ==> . He is not interested in being named a full-time \nChunk 15 ==> said , `` to obtain the views of the general publi\nChunk 16 ==> '' . Mr. Reama , far from really being retired , i\nChunk 17 ==> making enforcement of minor offenses more effectiv\nChunk 18 ==> to tell the people where he stands on the tax issu\n"
     ]
    }
   ],
   "source": [
    "if __name__=='__main__':\n",
    "    # Read the first 12000 words from the Brown corpus\n",
    "    input_data = ' '.join(brown.words()[:12000])\n",
    "\n",
    "    # Define the number of words in each chunk \n",
    "    chunk_size = 700\n",
    "\n",
    "    chunks = chunker(input_data, chunk_size)\n",
    "    print('\\nNumber of text chunks =', len(chunks), '\\n')\n",
    "    for i, chunk in enumerate(chunks):\n",
    "        print('Chunk', i+1, '==>', chunk[:50])"
   ]
  },
  {
   "cell_type": "code",
   "execution_count": null,
   "metadata": {},
   "outputs": [],
   "source": []
  }
 ]
}