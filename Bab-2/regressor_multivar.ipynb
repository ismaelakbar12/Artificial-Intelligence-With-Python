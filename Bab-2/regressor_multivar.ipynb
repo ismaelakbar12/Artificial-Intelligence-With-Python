{
 "metadata": {
  "language_info": {
   "codemirror_mode": {
    "name": "ipython",
    "version": 3
   },
   "file_extension": ".py",
   "mimetype": "text/x-python",
   "name": "python",
   "nbconvert_exporter": "python",
   "pygments_lexer": "ipython3",
   "version": "3.7.6-final"
  },
  "orig_nbformat": 2,
  "kernelspec": {
   "name": "python37664bitanaconda3virtualenv3e8f700443744979aab46604b31bab53",
   "display_name": "Python 3.7.6 64-bit ('anaconda3': virtualenv)",
   "language": "python"
  }
 },
 "nbformat": 4,
 "nbformat_minor": 2,
 "cells": [
  {
   "cell_type": "code",
   "execution_count": 1,
   "metadata": {},
   "outputs": [],
   "source": [
    "import numpy as np\n",
    "from sklearn import linear_model\n",
    "import sklearn.metrics as sm\n",
    "from sklearn.preprocessing import PolynomialFeatures"
   ]
  },
  {
   "cell_type": "code",
   "execution_count": 2,
   "metadata": {},
   "outputs": [],
   "source": [
    "# Input file containing data\n",
    "input_file = 'data_multivar_regr.txt'"
   ]
  },
  {
   "cell_type": "code",
   "execution_count": 3,
   "metadata": {},
   "outputs": [],
   "source": [
    "# Load the data from the input file\n",
    "data = np.loadtxt(input_file, delimiter=',')\n",
    "X, y = data[:, :-1], data[:, -1]"
   ]
  },
  {
   "cell_type": "code",
   "execution_count": 4,
   "metadata": {},
   "outputs": [],
   "source": [
    "# Split data into training and testing\n",
    "num_training = int(0.8 * len(X))\n",
    "num_test = len(X) - num_training\n",
    "\n",
    "# Training data\n",
    "X_train, y_train = X[:num_training], y[:num_training]\n",
    "\n",
    "# Test data\n",
    "X_test, y_test = X[num_training:], y[num_training:]"
   ]
  },
  {
   "cell_type": "code",
   "execution_count": 5,
   "metadata": {},
   "outputs": [
    {
     "output_type": "execute_result",
     "data": {
      "text/plain": [
       "LinearRegression(copy_X=True, fit_intercept=True, n_jobs=None, normalize=False)"
      ]
     },
     "metadata": {},
     "execution_count": 5
    }
   ],
   "source": [
    "# Create the linear regressor model\n",
    "linear_regressor = linear_model.LinearRegression()\n",
    "\n",
    "# Train the model using the training sets\n",
    "linear_regressor.fit(X_train, y_train)"
   ]
  },
  {
   "cell_type": "code",
   "execution_count": 6,
   "metadata": {},
   "outputs": [],
   "source": [
    "# Predict the output\n",
    "y_test_pred = linear_regressor.predict(X_test)"
   ]
  },
  {
   "cell_type": "code",
   "execution_count": 7,
   "metadata": {},
   "outputs": [
    {
     "output_type": "stream",
     "name": "stdout",
     "text": [
      "Linear Regressor performance:\nMean absolute error = 3.58\nMean squared error = 20.31\nMedian absolute error = 2.99\nExplained variance score = 0.86\nR2 score = 0.86\n"
     ]
    }
   ],
   "source": [
    "# Measure performance\n",
    "print(\"Linear Regressor performance:\")\n",
    "print(\"Mean absolute error =\", round(sm.mean_absolute_error(y_test,\n",
    "y_test_pred), 2))\n",
    "print(\"Mean squared error =\", round(sm.mean_squared_error(y_test,\n",
    "y_test_pred), 2))\n",
    "print(\"Median absolute error =\", round(sm.median_absolute_error(y_test,\n",
    "y_test_pred), 2))\n",
    "print(\"Explained variance score =\",\n",
    "round(sm.explained_variance_score(y_test, y_test_pred), 2))\n",
    "print(\"R2 score =\", round(sm.r2_score(y_test, y_test_pred), 2))"
   ]
  },
  {
   "cell_type": "code",
   "execution_count": 8,
   "metadata": {},
   "outputs": [],
   "source": [
    "# Polynomial regression\n",
    "polynomial = PolynomialFeatures(degree=10)\n",
    "X_train_transformed = polynomial.fit_transform(X_train)\n",
    "datapoint = [[7.75, 6.35, 5.56]]\n",
    "poly_datapoint = polynomial.fit_transform(datapoint)"
   ]
  },
  {
   "cell_type": "code",
   "execution_count": 9,
   "metadata": {},
   "outputs": [
    {
     "output_type": "stream",
     "name": "stdout",
     "text": [
      "\nLinear regression:\n [36.05286276]\n\nPolynomial regression:\n [41.45236707]\n"
     ]
    }
   ],
   "source": [
    "poly_linear_model = linear_model.LinearRegression()\n",
    "poly_linear_model.fit(X_train_transformed, y_train)\n",
    "print(\"\\nLinear regression:\\n\", linear_regressor.predict(datapoint))\n",
    "print(\"\\nPolynomial regression:\\n\",\n",
    "poly_linear_model.predict(poly_datapoint))"
   ]
  },
  {
   "cell_type": "code",
   "execution_count": null,
   "metadata": {},
   "outputs": [],
   "source": []
  }
 ]
}