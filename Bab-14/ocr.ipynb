{
 "metadata": {
  "language_info": {
   "codemirror_mode": {
    "name": "ipython",
    "version": 3
   },
   "file_extension": ".py",
   "mimetype": "text/x-python",
   "name": "python",
   "nbconvert_exporter": "python",
   "pygments_lexer": "ipython3",
   "version": "3.8.5"
  },
  "orig_nbformat": 2,
  "kernelspec": {
   "name": "python385jvsc74a57bd0b5a0abbd2bc4ea37d9b6b1d8de5644861781fafbaaede6695a6bae5cb7967bfd",
   "display_name": "Python 3.8.5 64-bit ('base': conda)"
  }
 },
 "nbformat": 4,
 "nbformat_minor": 2,
 "cells": [
  {
   "cell_type": "code",
   "execution_count": 1,
   "metadata": {},
   "outputs": [],
   "source": [
    "import numpy as np\n",
    "import neurolab as nl"
   ]
  },
  {
   "cell_type": "code",
   "execution_count": 2,
   "metadata": {},
   "outputs": [],
   "source": [
    "# Define the input file\n",
    "input_file = 'letter.data'"
   ]
  },
  {
   "cell_type": "code",
   "execution_count": 3,
   "metadata": {},
   "outputs": [],
   "source": [
    "# Define the number of datapoints to \n",
    "# be loaded from the input file\n",
    "num_datapoints = 50"
   ]
  },
  {
   "cell_type": "code",
   "execution_count": 4,
   "metadata": {},
   "outputs": [],
   "source": [
    "# String containing all the distinct characters\n",
    "orig_labels = 'omandig'"
   ]
  },
  {
   "cell_type": "code",
   "execution_count": 5,
   "metadata": {},
   "outputs": [],
   "source": [
    "# Compute the number of distinct characters\n",
    "num_orig_labels = len(orig_labels)"
   ]
  },
  {
   "cell_type": "code",
   "execution_count": 6,
   "metadata": {},
   "outputs": [],
   "source": [
    "# Define the training and testing parameters\n",
    "num_train = int(0.9 * num_datapoints)\n",
    "num_test = num_datapoints - num_train"
   ]
  },
  {
   "cell_type": "code",
   "execution_count": 7,
   "metadata": {},
   "outputs": [],
   "source": [
    "# Define the dataset extraction parameters \n",
    "start = 6\n",
    "end = -1"
   ]
  },
  {
   "cell_type": "code",
   "execution_count": 8,
   "metadata": {},
   "outputs": [],
   "source": [
    "# Creating the dataset\n",
    "data = []\n",
    "labels = []\n",
    "with open(input_file, 'r') as f:\n",
    "    for line in f.readlines():\n",
    "        # Split the current line tabwise\n",
    "        list_vals = line.split('\\t')\n",
    "\n",
    "        # Check if the label is in our ground truth \n",
    "        # labels. If not, we should skip it.\n",
    "        if list_vals[1] not in orig_labels:\n",
    "            continue\n",
    "\n",
    "        # Extract the current label and append it \n",
    "        # to the main list\n",
    "        label = np.zeros((num_orig_labels, 1))\n",
    "        label[orig_labels.index(list_vals[1])] = 1\n",
    "        labels.append(label)\n",
    "\n",
    "        # Extract the character vector and append it to the main list\n",
    "        cur_char = np.array([float(x) for x in list_vals[start:end]])\n",
    "        data.append(cur_char)\n",
    "\n",
    "        # Exit the loop once the required dataset has been created \n",
    "        if len(data) >= num_datapoints:\n",
    "            break\n"
   ]
  },
  {
   "cell_type": "code",
   "execution_count": 9,
   "metadata": {},
   "outputs": [],
   "source": [
    "# Convert the data and labels to numpy arrays\n",
    "data = np.asfarray(data)\n",
    "labels = np.array(labels).reshape(num_datapoints, num_orig_labels)"
   ]
  },
  {
   "cell_type": "code",
   "execution_count": 10,
   "metadata": {},
   "outputs": [],
   "source": [
    "# Extract the number of dimensions\n",
    "num_dims = len(data[0])"
   ]
  },
  {
   "cell_type": "code",
   "execution_count": 11,
   "metadata": {},
   "outputs": [],
   "source": [
    "# Create a feedforward neural network\n",
    "nn = nl.net.newff([[0, 1] for _ in range(len(data[0]))], \n",
    "        [128, 16, num_orig_labels])\n"
   ]
  },
  {
   "cell_type": "code",
   "execution_count": 12,
   "metadata": {},
   "outputs": [],
   "source": [
    "# Set the training algorithm to gradient descent\n",
    "nn.trainf = nl.train.train_gd"
   ]
  },
  {
   "cell_type": "code",
   "execution_count": 13,
   "metadata": {},
   "outputs": [
    {
     "output_type": "stream",
     "name": "stdout",
     "text": [
      "Epoch: 100; Error: 69.18259613558318;\n",
      "Epoch: 200; Error: 30.26725101261628;\n",
      "Epoch: 300; Error: 24.080194746417277;\n",
      "Epoch: 400; Error: 27.090945343057392;\n",
      "Epoch: 500; Error: 23.172442634661504;\n",
      "Epoch: 600; Error: 25.10383129895833;\n",
      "Epoch: 700; Error: 15.205734746177091;\n",
      "Epoch: 800; Error: 16.218010446723135;\n",
      "Epoch: 900; Error: 13.554106487789396;\n",
      "Epoch: 1000; Error: 10.525822313004467;\n",
      "Epoch: 1100; Error: 6.931121645525995;\n",
      "Epoch: 1200; Error: 4.281857125353875;\n",
      "Epoch: 1300; Error: 4.910484154747875;\n",
      "Epoch: 1400; Error: 4.041078439908885;\n",
      "Epoch: 1500; Error: 1.5307080402104256;\n",
      "Epoch: 1600; Error: 1.1407889573766359;\n",
      "Epoch: 1700; Error: 0.7420174054800688;\n",
      "Epoch: 1800; Error: 0.4914190910601406;\n",
      "Epoch: 1900; Error: 0.3448584002056772;\n",
      "Epoch: 2000; Error: 0.3405811681088001;\n",
      "Epoch: 2100; Error: 0.23698322216460516;\n",
      "Epoch: 2200; Error: 0.30433838857715056;\n",
      "Epoch: 2300; Error: 0.138566391307025;\n",
      "Epoch: 2400; Error: 0.14408361042508713;\n",
      "Epoch: 2500; Error: 0.28967840041796583;\n",
      "Epoch: 2600; Error: 0.15284649341546397;\n",
      "Epoch: 2700; Error: 0.09355459070789836;\n",
      "Epoch: 2800; Error: 0.08550890918439903;\n",
      "Epoch: 2900; Error: 0.08494134188399081;\n",
      "Epoch: 3000; Error: 0.08528757267472468;\n",
      "Epoch: 3100; Error: 0.12763897344519548;\n",
      "Epoch: 3200; Error: 0.1074280196884731;\n",
      "Epoch: 3300; Error: 0.05697445787457931;\n",
      "Epoch: 3400; Error: 0.046799710319298554;\n",
      "Epoch: 3500; Error: 0.04389148895391153;\n",
      "Epoch: 3600; Error: 0.04228248525038061;\n",
      "Epoch: 3700; Error: 0.0507449327636853;\n",
      "Epoch: 3800; Error: 0.14546164529811528;\n",
      "Epoch: 3900; Error: 0.1136821054640973;\n",
      "Epoch: 4000; Error: 0.04970584353888707;\n",
      "Epoch: 4100; Error: 0.03159022608664372;\n",
      "Epoch: 4200; Error: 0.027160472453654633;\n",
      "Epoch: 4300; Error: 0.027986009365837713;\n",
      "Epoch: 4400; Error: 0.03057951479523609;\n",
      "Epoch: 4500; Error: 0.032526137634685856;\n",
      "Epoch: 4600; Error: 0.03579454627042664;\n",
      "Epoch: 4700; Error: 0.04876858083741803;\n",
      "Epoch: 4800; Error: 0.05844726108089045;\n",
      "Epoch: 4900; Error: 0.05587235520543736;\n",
      "Epoch: 5000; Error: 0.04200583569911206;\n",
      "Epoch: 5100; Error: 0.027315950765021333;\n",
      "Epoch: 5200; Error: 0.019780385116638752;\n",
      "Epoch: 5300; Error: 0.016387036172828072;\n",
      "Epoch: 5400; Error: 0.015020701274847207;\n",
      "Epoch: 5500; Error: 0.015205750787201912;\n",
      "Epoch: 5600; Error: 0.021151769523243255;\n",
      "Epoch: 5700; Error: 0.0637941712692327;\n",
      "Epoch: 5800; Error: 0.08332892387501271;\n",
      "Epoch: 5900; Error: 0.04319555099049612;\n",
      "Epoch: 6000; Error: 0.023812251672409523;\n",
      "Epoch: 6100; Error: 0.01608258433479144;\n",
      "Epoch: 6200; Error: 0.01300033136181287;\n",
      "Epoch: 6300; Error: 0.012102492295191041;\n",
      "Epoch: 6400; Error: 0.012607231261349683;\n",
      "Epoch: 6500; Error: 0.014320220644601105;\n",
      "Epoch: 6600; Error: 0.0170282798314119;\n",
      "Epoch: 6700; Error: 0.019939326654807348;\n",
      "Epoch: 6800; Error: 0.021957839798193195;\n",
      "Epoch: 6900; Error: 0.023685023892962474;\n",
      "Epoch: 7000; Error: 0.027422816287990287;\n",
      "Epoch: 7100; Error: 0.027856284784499048;\n",
      "Epoch: 7200; Error: 0.02178108881249404;\n",
      "Epoch: 7300; Error: 0.017609153729265907;\n",
      "Epoch: 7400; Error: 0.019585063575584406;\n",
      "Epoch: 7500; Error: 0.030296891878022297;\n",
      "Epoch: 7600; Error: 0.04165382984825049;\n",
      "Epoch: 7700; Error: 0.037046505757883305;\n",
      "Epoch: 7800; Error: 0.02591605342163039;\n",
      "Epoch: 7900; Error: 0.017874812568499637;\n",
      "Epoch: 8000; Error: 0.013332948657868219;\n",
      "Epoch: 8100; Error: 0.011005214040962248;\n",
      "Epoch: 8200; Error: 0.01002988248556013;\n",
      "The goal of learning is reached\n"
     ]
    }
   ],
   "source": [
    "# Train the network\n",
    "error_progress = nn.train(data[:num_train,:], labels[:num_train,:], \n",
    "        epochs=10000, show=100, goal=0.01)"
   ]
  },
  {
   "cell_type": "code",
   "execution_count": 14,
   "metadata": {},
   "outputs": [
    {
     "output_type": "stream",
     "name": "stdout",
     "text": [
      "\nTesting on unknown data:\n\nOriginal: o\nPredicted: o\n\nOriginal: m\nPredicted: d\n\nOriginal: m\nPredicted: m\n\nOriginal: a\nPredicted: n\n\nOriginal: n\nPredicted: n\n"
     ]
    }
   ],
   "source": [
    "# Predict the output for test inputs \n",
    "print('\\nTesting on unknown data:')\n",
    "predicted_test = nn.sim(data[num_train:, :])\n",
    "for i in range(num_test):\n",
    "    print('\\nOriginal:', orig_labels[np.argmax(labels[i])])\n",
    "    print('Predicted:', orig_labels[np.argmax(predicted_test[i])])\n"
   ]
  },
  {
   "cell_type": "code",
   "execution_count": null,
   "metadata": {},
   "outputs": [],
   "source": []
  }
 ]
}