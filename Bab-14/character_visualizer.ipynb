{
 "metadata": {
  "language_info": {
   "codemirror_mode": {
    "name": "ipython",
    "version": 3
   },
   "file_extension": ".py",
   "mimetype": "text/x-python",
   "name": "python",
   "nbconvert_exporter": "python",
   "pygments_lexer": "ipython3",
   "version": "3.8.5"
  },
  "orig_nbformat": 2,
  "kernelspec": {
   "name": "python385jvsc74a57bd0b5a0abbd2bc4ea37d9b6b1d8de5644861781fafbaaede6695a6bae5cb7967bfd",
   "display_name": "Python 3.8.5 64-bit ('base': conda)"
  }
 },
 "nbformat": 4,
 "nbformat_minor": 2,
 "cells": [
  {
   "cell_type": "code",
   "execution_count": null,
   "metadata": {},
   "outputs": [],
   "source": [
    "import os\n",
    "import sys\n",
    "\n",
    "import cv2\n",
    "import numpy as np"
   ]
  },
  {
   "cell_type": "code",
   "execution_count": null,
   "metadata": {},
   "outputs": [],
   "source": [
    "# Define the input file \n",
    "input_file = 'letter.data' "
   ]
  },
  {
   "cell_type": "code",
   "execution_count": null,
   "metadata": {},
   "outputs": [],
   "source": [
    "# Define the visualization parameters \n",
    "img_resize_factor = 12\n",
    "start = 6\n",
    "end = -1\n",
    "height, width = 16, 8"
   ]
  },
  {
   "cell_type": "code",
   "execution_count": null,
   "metadata": {},
   "outputs": [],
   "source": [
    "# Iterate until the user presses the Esc key\n",
    "with open(input_file, 'r') as f:\n",
    "    for line in f.readlines():\n",
    "        # Read the data\n",
    "        data = np.array([255 * float(x) for x in line.split('\\t')[start:end]])\n",
    "\n",
    "        # Reshape the data into a 2D image\n",
    "        img = np.reshape(data, (height, width))\n",
    "\n",
    "        # Scale the image\n",
    "        img_scaled = cv2.resize(img, None, fx=img_resize_factor, fy=img_resize_factor)\n",
    "\n",
    "        # Display the image\n",
    "        cv2.imshow('Image', img_scaled)\n",
    "\n",
    "        # Check if the user pressed the Esc key\n",
    "        c = cv2.waitKey()\n",
    "        if c == 27:\n",
    "            break\n"
   ]
  },
  {
   "cell_type": "code",
   "execution_count": null,
   "metadata": {},
   "outputs": [],
   "source": []
  }
 ]
}